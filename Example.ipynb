{
 "cells": [
  {
   "cell_type": "code",
   "execution_count": 3,
   "id": "a37f9d7e",
   "metadata": {},
   "outputs": [
    {
     "name": "stdout",
     "output_type": "stream",
     "text": [
      "Minimized Expression: 0x0 + 00x + 01x + 0xx + 0xx\n",
      "Covered Minterms: [0, 2]\n"
     ]
    }
   ],
   "source": [
    "\n",
    "\n",
    "def combine_terms(terms):\n",
    "    # Comparing terms and separating those that differ by one bit.\n",
    "    combined_terms = []\n",
    "    n = len(terms[0])\n",
    "    for i in range(len(terms)):\n",
    "        for j in range(i + 1, len(terms)):\n",
    "            t1 = terms[i]\n",
    "            t2 = terms[j]\n",
    "            diff_count = 0\n",
    "            combined = \"\"\n",
    "            for k in range(n):\n",
    "                if t1[k] != t2[k]:\n",
    "                    diff_count += 1\n",
    "                    combined += \"x\"\n",
    "                else:\n",
    "                    combined += t1[k]\n",
    "            if diff_count == 1:\n",
    "                combined_terms.append(combined)\n",
    "    return combined_terms\n",
    "\n",
    "\n",
    "def generate_pi(minterms, num_vars):\n",
    "    # Convert terms into binary form and call combine_terms() to generate PI's.\n",
    "    prime_implicants = []\n",
    "    terms = [bin(m)[2:].zfill(num_vars) for m in minterms]\n",
    "    while True:\n",
    "        combined_terms = combine_terms(terms)\n",
    "        if not combined_terms:\n",
    "            break\n",
    "        prime_implicants.extend(combined_terms)\n",
    "        terms = combined_terms\n",
    "    return prime_implicants\n",
    "\n",
    "\n",
    "def minimize_boolean_function(minterms, dont_cares, num_vars):\n",
    "    prime_implicants = generate_pi(minterms + dont_cares, num_vars)\n",
    "    prime_implicants.sort(key=lambda x: x.count(\"x\"))\n",
    "    essential_implicants = []\n",
    "    minimized_expression = \"\"\n",
    "    covered_minterms = set()\n",
    "    for implicant in prime_implicants:\n",
    "        count = 0\n",
    "        for minterm in minterms:\n",
    "            if implicant.replace(\"x\", \"0\") in bin(minterm)[2:].zfill(num_vars):\n",
    "                count += 1\n",
    "                covered_minterms.add(minterm)\n",
    "        if count == 1:\n",
    "            essential_implicants.append(implicant)\n",
    "    for implicant in essential_implicants:\n",
    "        minimized_expression += implicant.replace(\" \", \"x\")\n",
    "        minimized_expression += \" + \"\n",
    "    if minimized_expression:\n",
    "        # Remove the trailing \" + \"\n",
    "        minimized_expression = minimized_expression[:-3]\n",
    "    return minimized_expression, list(covered_minterms)\n",
    "\n",
    "\n",
    "number_of_vars = 3\n",
    "func_terms = [0, 2, 3, 5]\n",
    "func_dont_cares = [1]\n",
    "\n",
    "\n",
    "expression, covered_terms = minimize_boolean_function(func_terms, func_dont_cares, number_of_vars)\n",
    "\n",
    "print(\"Minimized Expression:\", expression)\n",
    "print(\"Covered Minterms:\", covered_terms)\n"
   ]
  },
  {
   "cell_type": "code",
   "execution_count": null,
   "id": "b7f6daa1",
   "metadata": {},
   "outputs": [],
   "source": []
  }
 ],
 "metadata": {
  "kernelspec": {
   "display_name": "Python 3 (ipykernel)",
   "language": "python",
   "name": "python3"
  },
  "language_info": {
   "codemirror_mode": {
    "name": "ipython",
    "version": 3
   },
   "file_extension": ".py",
   "mimetype": "text/x-python",
   "name": "python",
   "nbconvert_exporter": "python",
   "pygments_lexer": "ipython3",
   "version": "3.11.3"
  }
 },
 "nbformat": 4,
 "nbformat_minor": 5
}
